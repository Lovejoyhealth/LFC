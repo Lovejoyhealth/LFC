{
 "cells": [
  {
   "cell_type": "code",
   "execution_count": null,
   "metadata": {},
   "outputs": [
    {
     "ename": "ModuleNotFoundError",
     "evalue": "No module named 'qiskit.execute_function'",
     "output_type": "error",
     "traceback": [
      "\u001b[1;31m---------------------------------------------------------------------------\u001b[0m",
      "\u001b[1;31mModuleNotFoundError\u001b[0m                       Traceback (most recent call last)",
      "Cell \u001b[1;32mIn[2], line 2\u001b[0m\n\u001b[0;32m      1\u001b[0m \u001b[38;5;28;01mfrom\u001b[39;00m \u001b[38;5;21;01mqiskit\u001b[39;00m \u001b[38;5;28;01mimport\u001b[39;00m QuantumCircuit\n\u001b[1;32m----> 2\u001b[0m \u001b[38;5;28;01mfrom\u001b[39;00m \u001b[38;5;21;01mqiskit\u001b[39;00m\u001b[38;5;21;01m.\u001b[39;00m\u001b[38;5;21;01mexecute_function\u001b[39;00m \u001b[38;5;28;01mimport\u001b[39;00m execute  \u001b[38;5;66;03m# Correct import for `execute`\u001b[39;00m\n\u001b[0;32m      3\u001b[0m \u001b[38;5;28;01mfrom\u001b[39;00m \u001b[38;5;21;01mqiskit_aer\u001b[39;00m \u001b[38;5;28;01mimport\u001b[39;00m Aer\n\u001b[0;32m      4\u001b[0m \u001b[38;5;28;01mfrom\u001b[39;00m \u001b[38;5;21;01mqiskit\u001b[39;00m\u001b[38;5;21;01m.\u001b[39;00m\u001b[38;5;21;01mvisualization\u001b[39;00m \u001b[38;5;28;01mimport\u001b[39;00m plot_histogram\n",
      "\u001b[1;31mModuleNotFoundError\u001b[0m: No module named 'qiskit.execute_function'"
     ]
    }
   ],
   "source": [
    "from qiskit import QuantumCircuit, execute\n",
    "from qiskit_aer import Aer\n",
    "from qiskit.visualization import plot_histogram\n",
    "\n",
    "class ProductData:\n",
    "    def __init__(self, data):\n",
    "        self.data = data\n",
    "\n",
    "    def get_data(self):\n",
    "        return self.data\n",
    "\n",
    "    def get_qubit(self):\n",
    "        return len(self.data).bit_length()\n",
    "\n",
    "    def get_qubit_data(self):\n",
    "        qubit = self.get_qubit()\n",
    "        qubit_data = []\n",
    "        for i in range(qubit):\n",
    "            qubit_data.append(self.data >> i & 1)\n",
    "        return qubit_data"
   ]
  },
  {
   "cell_type": "code",
   "execution_count": 4,
   "metadata": {},
   "outputs": [
    {
     "name": "stdout",
     "output_type": "stream",
     "text": [
      "Data: 25\n",
      "Number of Qubits: 5\n",
      "Qubit Data: [1, 0, 0, 1, 1]\n",
      "Simulation Result: {'00100': 27, '01101': 37, '00000': 34, '01011': 36, '00010': 20, '01001': 46, '10000': 42, '11101': 32, '00111': 35, '10010': 27, '11010': 27, '01100': 30, '11001': 32, '11011': 27, '01000': 30, '01010': 50, '10001': 34, '00110': 29, '10011': 33, '01110': 35, '01111': 22, '10111': 28, '11100': 23, '11000': 32, '11111': 36, '10110': 28, '10101': 27, '00001': 35, '11110': 34, '00101': 38, '10100': 33, '00011': 25}\n"
     ]
    },
    {
     "name": "stderr",
     "output_type": "stream",
     "text": [
      "C:\\Users\\karan\\AppData\\Local\\Temp\\ipykernel_24456\\1722256418.py:74: UserWarning: FigureCanvasAgg is non-interactive, and thus cannot be shown\n",
      "  plot_histogram(counts).show()\n"
     ]
    }
   ],
   "source": [
    "from qiskit import QuantumCircuit\n",
    "from qiskit_aer import AerSimulator\n",
    "from qiskit.visualization import plot_histogram\n",
    "\n",
    "class ProductData:\n",
    "    def __init__(self, data):\n",
    "        \"\"\"\n",
    "        Initialize the ProductData class with the provided data.\n",
    "        Args:\n",
    "            data (int): Integer representation of the product data.\n",
    "        \"\"\"\n",
    "        self.data = data\n",
    "\n",
    "    def get_data(self):\n",
    "        \"\"\"\n",
    "        Returns the raw data.\n",
    "        Returns:\n",
    "            int: The raw data.\n",
    "        \"\"\"\n",
    "        return self.data\n",
    "\n",
    "    def get_qubit(self):\n",
    "        \"\"\"\n",
    "        Calculates the number of qubits required to represent the data.\n",
    "        Returns:\n",
    "            int: Number of qubits required.\n",
    "        \"\"\"\n",
    "        return len(bin(self.data)) - 2  # Number of bits in binary representation (excluding '0b').\n",
    "\n",
    "    def get_qubit_data(self):\n",
    "        \"\"\"\n",
    "        Extracts individual bits from the data to represent as qubits.\n",
    "        Returns:\n",
    "            list: List of bits representing the data.\n",
    "        \"\"\"\n",
    "        qubit_count = self.get_qubit()\n",
    "        return [(self.data >> i) & 1 for i in range(qubit_count)]  # Extract each bit from data.\n",
    "\n",
    "# Example Usage\n",
    "if __name__ == \"__main__\":\n",
    "    # Create an instance of ProductData\n",
    "    product = ProductData(25)  # Example: 25 (binary: 11001)\n",
    "    print(\"Data:\", product.get_data())\n",
    "    print(\"Number of Qubits:\", product.get_qubit())\n",
    "    print(\"Qubit Data:\", product.get_qubit_data())\n",
    "\n",
    "    # Create a quantum circuit based on the qubit data\n",
    "    qubit_data = product.get_qubit_data()\n",
    "    num_qubits = len(qubit_data)\n",
    "    qc = QuantumCircuit(num_qubits)\n",
    "\n",
    "    # Initialize the circuit with the qubit data\n",
    "    for i, bit in enumerate(qubit_data):\n",
    "        if bit == 1:\n",
    "            qc.x(i)  # Apply X gate to set the qubit to |1>\n",
    "\n",
    "    # Add a barrier for visualization\n",
    "    qc.barrier()\n",
    "\n",
    "    # Add Hadamard gates to all qubits\n",
    "    for i in range(num_qubits):\n",
    "        qc.h(i)\n",
    "\n",
    "    # Measure the qubits\n",
    "    qc.measure_all()\n",
    "\n",
    "    # Simulate the circuit\n",
    "    simulator = AerSimulator()\n",
    "    result = simulator.run(qc).result()\n",
    "    counts = result.get_counts()\n",
    "\n",
    "    # Print the results and show the histogram\n",
    "    print(\"Simulation Result:\", counts)\n",
    "    plot_histogram(counts).show()"
   ]
  },
  {
   "cell_type": "code",
   "execution_count": null,
   "metadata": {},
   "outputs": [],
   "source": []
  }
 ],
 "metadata": {
  "kernelspec": {
   "display_name": "Python 3",
   "language": "python",
   "name": "python3"
  },
  "language_info": {
   "codemirror_mode": {
    "name": "ipython",
    "version": 3
   },
   "file_extension": ".py",
   "mimetype": "text/x-python",
   "name": "python",
   "nbconvert_exporter": "python",
   "pygments_lexer": "ipython3",
   "version": "3.12.1"
  }
 },
 "nbformat": 4,
 "nbformat_minor": 2
}
